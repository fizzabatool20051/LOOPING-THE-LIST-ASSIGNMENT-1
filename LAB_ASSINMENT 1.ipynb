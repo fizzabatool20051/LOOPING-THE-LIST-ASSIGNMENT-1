{
 "cells": [
  {
   "cell_type": "code",
   "execution_count": 37,
   "id": "3bf57677-3988-472d-a3db-7b1218dbc23c",
   "metadata": {},
   "outputs": [
    {
     "name": "stdout",
     "output_type": "stream",
     "text": [
      "2\n",
      "4\n",
      "6\n",
      "8\n",
      "10\n",
      "12\n",
      "14\n",
      "16\n",
      "18\n",
      "20\n"
     ]
    }
   ],
   "source": [
    "#PRINT EVEN NUMBERS FROM 2 TO 20\n",
    "for num in range(2,21,2):\n",
    "    print(num)"
   ]
  },
  {
   "cell_type": "code",
   "execution_count": 36,
   "id": "99989e01-16a3-4d1a-b8e1-3f4de056fdaa",
   "metadata": {},
   "outputs": [
    {
     "name": "stdout",
     "output_type": "stream",
     "text": [
      "FIZZA\n",
      "ZOHA\n",
      "FATIMA\n",
      "RAFIA\n",
      "AMNA\n",
      "USWA\n",
      "SAHAR\n"
     ]
    }
   ],
   "source": [
    "#PRINT NAMES IN UPPERCASE\n",
    "names = ['fizza','zoha','fatima','rafia','amna','uswa','sahar']\n",
    "for name in names:\n",
    "    print(name.upper())\n"
   ]
  },
  {
   "cell_type": "code",
   "execution_count": 35,
   "id": "ff0ed07c-8129-4d24-801b-be47400afcc1",
   "metadata": {},
   "outputs": [
    {
     "name": "stdout",
     "output_type": "stream",
     "text": [
      "10\n",
      "9\n",
      "8\n",
      "7\n",
      "6\n",
      "5\n",
      "4\n",
      "3\n",
      "2\n",
      "1\n"
     ]
    }
   ],
   "source": [
    "#PRINT NUMBERS FROM 1 TO 10 IN REVERSE ORDER\n",
    "for value in range(10,0,-1):\n",
    "    print(value)\n"
   ]
  },
  {
   "cell_type": "code",
   "execution_count": 33,
   "id": "ea70c67b-7147-46d1-a998-f88c8026f080",
   "metadata": {},
   "outputs": [
    {
     "name": "stdout",
     "output_type": "stream",
     "text": [
      "9\n",
      "18\n",
      "24\n",
      "33\n",
      "48\n"
     ]
    }
   ],
   "source": [
    "#PRINT NUMBERS DIVISIBLE BY 3\n",
    "numbers = [4,5,9,13,18,19,20,24,33,37,44,48]\n",
    "for num in numbers:\n",
    "    if num%3==0:\n",
    "        print(num)\n",
    "    "
   ]
  },
  {
   "cell_type": "code",
   "execution_count": 32,
   "id": "9a05f80c-c1e0-4e63-a443-61c85f500040",
   "metadata": {},
   "outputs": [
    {
     "name": "stdout",
     "output_type": "stream",
     "text": [
      "1\n",
      "4\n",
      "9\n",
      "16\n",
      "25\n",
      "36\n",
      "49\n",
      "64\n",
      "81\n",
      "100\n"
     ]
    }
   ],
   "source": [
    "#PRINT SQUARES OF NUMBERS FROM 1 TO 10\n",
    "for num in range(1,11):\n",
    "    print(num**2)\n",
    "    "
   ]
  },
  {
   "cell_type": "code",
   "execution_count": 31,
   "id": "508c037e-e931-4346-932b-416b86cca3d6",
   "metadata": {},
   "outputs": [
    {
     "name": "stdout",
     "output_type": "stream",
     "text": [
      "0°c=32.0°F\n",
      "10°c=50.0°F\n",
      "20°c=68.0°F\n",
      "30°c=86.0°F\n",
      "40°c=104.0°F\n"
     ]
    }
   ],
   "source": [
    "#CONVERT CELSIUS TO FAHRENHEIT\n",
    "celsius_list=[0,10,20,30,40]\n",
    "for c in celsius_list:\n",
    "    fahrenheit=(c*9/5)+32\n",
    "    print(f\"{c}°c={fahrenheit}°F\")\n",
    "    \n"
   ]
  },
  {
   "cell_type": "code",
   "execution_count": 30,
   "id": "fedd17b3-baa1-411f-bb39-2467f1233624",
   "metadata": {},
   "outputs": [
    {
     "name": "stdout",
     "output_type": "stream",
     "text": [
      "5 x 1 = 5\n",
      "5 x 2 = 10\n",
      "5 x 3 = 15\n",
      "5 x 4 = 20\n",
      "5 x 5 = 25\n",
      "5 x 6 = 30\n",
      "5 x 7 = 35\n",
      "5 x 8 = 40\n",
      "5 x 9 = 45\n",
      "5 x 10 = 50\n"
     ]
    }
   ],
   "source": [
    "#PRINT MULTIPLICATION TABLE OF 5\n",
    "for i in range(1,11):\n",
    "    print(f\"5 x {i} = {5*i}\")"
   ]
  },
  {
   "cell_type": "code",
   "execution_count": 29,
   "id": "85beec91-7bc5-4340-a557-3f0e590380ff",
   "metadata": {},
   "outputs": [
    {
     "name": "stdout",
     "output_type": "stream",
     "text": [
      "sum =  10\n",
      "sum =  25\n",
      "sum =  55\n",
      "sum =  90\n",
      "sum =  130\n"
     ]
    }
   ],
   "source": [
    "#SUM OF ALL NUMBERS IN A LIST\n",
    "numbers=[10,15,30,35,40]\n",
    "total=0\n",
    "for num in numbers:\n",
    "    total+=num\n",
    "    print(\"sum = \",total)\n"
   ]
  },
  {
   "cell_type": "code",
   "execution_count": 28,
   "id": "7a450acf-30db-4fd6-9e20-9f50f3771573",
   "metadata": {},
   "outputs": [
    {
     "name": "stdout",
     "output_type": "stream",
     "text": [
      "F\n",
      "I\n",
      "Z\n",
      "Z\n",
      "A\n"
     ]
    }
   ],
   "source": [
    "#PRINT EACH CHARACTER IN A STRING\n",
    "text = \"FIZZA\"\n",
    "for char in text:\n",
    "    print(char)"
   ]
  },
  {
   "cell_type": "code",
   "execution_count": 27,
   "id": "02db398e-7fc0-4cab-ba47-9938560a8434",
   "metadata": {},
   "outputs": [
    {
     "name": "stdout",
     "output_type": "stream",
     "text": [
      "FERRARI\n",
      "SUZUKI\n",
      "TOYOTA\n"
     ]
    }
   ],
   "source": [
    "#PRINT WORDS MORE THAN 5 LETTERS\n",
    "words=['FERRARI','BMW','CIVIC','BELTA','ALTO','SUZUKI','TOYOTA']\n",
    "for word in words:\n",
    "    if len(word) > 5:\n",
    "        print(word)\n",
    "    \n"
   ]
  }
 ],
 "metadata": {
  "kernelspec": {
   "display_name": "Python [conda env:base] *",
   "language": "python",
   "name": "conda-base-py"
  },
  "language_info": {
   "codemirror_mode": {
    "name": "ipython",
    "version": 3
   },
   "file_extension": ".py",
   "mimetype": "text/x-python",
   "name": "python",
   "nbconvert_exporter": "python",
   "pygments_lexer": "ipython3",
   "version": "3.13.5"
  }
 },
 "nbformat": 4,
 "nbformat_minor": 5
}
